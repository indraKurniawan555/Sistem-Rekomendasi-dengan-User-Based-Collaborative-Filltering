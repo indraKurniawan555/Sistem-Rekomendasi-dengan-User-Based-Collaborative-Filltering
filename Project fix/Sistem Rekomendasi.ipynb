{
  "cells": [
    {
      "cell_type": "code",
      "execution_count": 2,
      "metadata": {
        "colab": {
          "base_uri": "https://localhost:8080/"
        },
        "id": "plbIIqkNQhBf",
        "outputId": "ac8a5a64-334e-4d50-8cdf-f81194c5e449"
      },
      "outputs": [
        {
          "name": "stdout",
          "output_type": "stream",
          "text": [
            "Requirement already satisfied: surprise in d:\\python\\lib\\site-packages (0.1)\n",
            "Requirement already satisfied: scikit-surprise in d:\\python\\lib\\site-packages (from surprise) (1.1.4)\n",
            "Requirement already satisfied: joblib>=1.2.0 in d:\\python\\lib\\site-packages (from scikit-surprise->surprise) (1.4.2)\n",
            "Requirement already satisfied: numpy>=1.19.5 in d:\\python\\lib\\site-packages (from scikit-surprise->surprise) (1.26.4)\n",
            "Requirement already satisfied: scipy>=1.6.0 in d:\\python\\lib\\site-packages (from scikit-surprise->surprise) (1.14.1)\n",
            "Note: you may need to restart the kernel to use updated packages.\n"
          ]
        }
      ],
      "source": [
        "pip install surprise"
      ]
    },
    {
      "cell_type": "code",
      "execution_count": 3,
      "metadata": {
        "id": "OwJZ8egePFC7"
      },
      "outputs": [],
      "source": [
        "import pandas as pd\n",
        "from surprise import Reader, Dataset, SVD\n",
        "from surprise.model_selection import cross_validate"
      ]
    },
    {
      "cell_type": "code",
      "execution_count": 4,
      "metadata": {
        "id": "c06yQKqIN7uB"
      },
      "outputs": [],
      "source": [
        "df = pd.read_csv('Data Sistem Rekomendasi new.csv', delimiter=';')\n"
      ]
    },
    {
      "cell_type": "code",
      "execution_count": 5,
      "metadata": {
        "colab": {
          "base_uri": "https://localhost:8080/"
        },
        "id": "a8c-7r85N9_C",
        "outputId": "5845fef3-7716-4923-97f9-5e85442eb68c"
      },
      "outputs": [
        {
          "name": "stdout",
          "output_type": "stream",
          "text": [
            "   user_id            tempat_wisata rating\n",
            "0        1          Gunung Argopuro      5\n",
            "1        1            Gunung Papuma      5\n",
            "2        1  Kebun Teh Gunung Gambir      5\n",
            "3        1        Air Terjun Tancak      5\n",
            "4        1   Wisata Pinus Sidomulyo      5\n",
            "Index(['user_id', 'tempat_wisata', 'rating'], dtype='object')\n"
          ]
        }
      ],
      "source": [
        "print(df.head())       # Menampilkan beberapa baris awal\n",
        "print(df.columns)      # Memastikan nama kolom terbaca dengan benar\n"
      ]
    },
    {
      "cell_type": "code",
      "execution_count": 6,
      "metadata": {
        "colab": {
          "base_uri": "https://localhost:8080/"
        },
        "id": "7M9kQe7rOBSF",
        "outputId": "2f22e874-d3b7-4c33-faf7-4764a585d074"
      },
      "outputs": [
        {
          "name": "stdout",
          "output_type": "stream",
          "text": [
            "    user_id                 tempat_wisata rating\n",
            "0         1               Gunung Argopuro      5\n",
            "24        1            Jember Town Square      5\n",
            "23        1              Transmart Jember      5\n",
            "22        1             Rumah Batik Rolla      5\n",
            "21        1  Dira Kencong Shopping Center      5\n"
          ]
        }
      ],
      "source": [
        "df = df.sort_values(by='user_id')\n",
        "print(df.head())\n"
      ]
    },
    {
      "cell_type": "code",
      "execution_count": 7,
      "metadata": {
        "colab": {
          "base_uri": "https://localhost:8080/",
          "height": 206
        },
        "id": "Q26HT_sLQy42",
        "outputId": "577dcd18-e91b-4d9e-f684-f40414c2f659"
      },
      "outputs": [
        {
          "name": "stdout",
          "output_type": "stream",
          "text": [
            "   user_id            tempat_wisata rating\n",
            "0        1          Gunung Argopuro      5\n",
            "1        1            Gunung Papuma      5\n",
            "2        1  Kebun Teh Gunung Gambir      5\n",
            "3        1        Air Terjun Tancak      5\n",
            "4        1   Wisata Pinus Sidomulyo      5\n"
          ]
        }
      ],
      "source": [
        "import pandas as pd\n",
        "\n",
        "# Membaca file CSV dengan pemisah ';'\n",
        "df = pd.read_csv('Data Sistem Rekomendasi new.csv', sep=';')\n",
        "\n",
        "# Menampilkan 5 baris pertama untuk memeriksa data\n",
        "print(df.head())\n"
      ]
    },
    {
      "cell_type": "code",
      "execution_count": 8,
      "metadata": {
        "id": "QNLCT67KbH7E"
      },
      "outputs": [],
      "source": [
        "import pandas as pd\n",
        "from surprise import Dataset, Reader\n",
        "\n",
        "# Membaca dataset dengan header pada baris pertama dan delimiter yang benar\n",
        "df = pd.read_csv('Data Sistem Rekomendasi new.csv', sep=';')\n",
        "\n",
        "# Mengganti koma dengan titik di kolom 'rating' dan mengonversi ke float\n",
        "df['rating'] = df['rating'].str.replace(',', '.').astype(float)\n",
        "\n",
        "# Memastikan data memiliki kolom yang sesuai untuk Surprise\n",
        "data = Dataset.load_from_df(df[['user_id', 'tempat_wisata', 'rating']], Reader(rating_scale=(1, 5)))\n",
        "\n",
        "# Membuat training set\n",
        "trainset = data.build_full_trainset()\n"
      ]
    },
    {
      "cell_type": "code",
      "execution_count": 9,
      "metadata": {
        "colab": {
          "base_uri": "https://localhost:8080/"
        },
        "id": "3S_IfJlBbjJG",
        "outputId": "68107084-809d-45e8-a7f7-1f443eae70e9"
      },
      "outputs": [
        {
          "data": {
            "text/plain": [
              "<surprise.prediction_algorithms.matrix_factorization.SVD at 0x16ecfaa1d20>"
            ]
          },
          "execution_count": 9,
          "metadata": {},
          "output_type": "execute_result"
        }
      ],
      "source": [
        "# Menggunakan teknik Dimensionality reduction dengan model SVD dari scikit surprise\n",
        "model = SVD()\n",
        "model.fit(trainset)"
      ]
    },
    {
      "cell_type": "code",
      "execution_count": 10,
      "metadata": {
        "colab": {
          "base_uri": "https://localhost:8080/"
        },
        "id": "xo2nBbeibwI5",
        "outputId": "f82a024a-4800-4b5f-8b28-8ff300554d9d"
      },
      "outputs": [
        {
          "data": {
            "text/plain": [
              "Prediction(uid=1, iid='Gunung Argopuro', r_ui=None, est=4.694731400917834, details={'was_impossible': False})"
            ]
          },
          "execution_count": 10,
          "metadata": {},
          "output_type": "execute_result"
        }
      ],
      "source": [
        "# Memprediksi dengan mengambil sampel dari dataset, user id dan nama wisata\n",
        "model.predict(1, \"Gunung Argopuro\")"
      ]
    },
    {
      "cell_type": "code",
      "execution_count": 11,
      "metadata": {
        "id": "2ia9519wb9Ck"
      },
      "outputs": [],
      "source": [
        "user_id = 1"
      ]
    },
    {
      "cell_type": "code",
      "execution_count": 12,
      "metadata": {},
      "outputs": [],
      "source": [
        "class RecommenderSystem:\n",
        "  def __init__(self, data):\n",
        "    # Use pd.read_csv since the file is a CSV\n",
        "    self.df = pd.read_csv(data, delimiter=';', header=0)  # Changed to pd.read_csv and specified delimiter\n",
        "    self.all_Wisata = self.df['tempat_wisata'].unique()\n",
        "    self.model = None\n",
        "\n",
        "  def fit(self):\n",
        "    data = Dataset.load_from_df(self.df[['user_id', 'tempat_wisata', 'rating']], Reader(rating_scale=(1, 5))) #Specify rating scale\n",
        "    trainset = data.build_full_trainset()\n",
        "\n",
        "    self.model = SVD()\n",
        "    self.model.fit(trainset)\n",
        "\n",
        "  def recommend(self, user_id, topk=10):\n",
        "    dikunjungi = self.df[self.df['user_id'] == user_id]['tempat_wisata'] # Access using bracket notation\n",
        "    belum_dikunjungi = [Wisata for Wisata in self.all_Wisata if Wisata not in dikunjungi.tolist()] #Convert to list for comparison\n",
        "    score = [self.model.predict(user_id, Wisata).est for Wisata in belum_dikunjungi]\n",
        "\n",
        "    result = pd.DataFrame({\"tempat_wisata\" : belum_dikunjungi, \"pred_score\" : score}) # result ke dalam DataFrame yang akan dipanggil nantinya\n",
        "    result.sort_values(\"pred_score\", ascending=False, inplace=True) # urutkan berdasarkan pred_score yang artinya Wisata dengan rating tertinggi\n",
        "\n",
        "    return result.head(topk)"
      ]
    },
    {
      "cell_type": "code",
      "execution_count": 13,
      "metadata": {
        "colab": {
          "base_uri": "https://localhost:8080/"
        },
        "id": "W-d-LmO6dCE8",
        "outputId": "81283f28-d831-4337-c160-1d437d922f7e"
      },
      "outputs": [
        {
          "data": {
            "text/plain": [
              "array(['Gunung Argopuro', 'Gunung Papuma', 'Kebun Teh Gunung Gambir',\n",
              "       'Air Terjun Tancak', 'Wisata Pinus Sidomulyo', 'Teluk Love',\n",
              "       'Trans Studio Mini', 'Gas Adventure Land', 'Kidzoona Lipoo Plaza',\n",
              "       'Jember Mini ZOO', 'Gudeg Lumintu', 'Cafe Kolong',\n",
              "       'Restoran Pawon Sari', 'Alun-alun Jember Foodcourt',\n",
              "       'Pura Mandara Giri Semeru Agung', 'Makam Habib Sholeh Tanggul',\n",
              "       'Lippo Plaza', 'Jember Roxy Square', 'Makam KH Muhammad Shidiq',\n",
              "       \"Masjid Jami' Al-Baitul Amien\", 'Masjid Muhammad Cheng Hoo',\n",
              "       'Dira Kencong Shopping Center', 'Rumah Batik Rolla',\n",
              "       'Transmart Jember', 'Jember Town Square'], dtype=object)"
            ]
          },
          "execution_count": 13,
          "metadata": {},
          "output_type": "execute_result"
        }
      ],
      "source": [
        "all_Wisata = df.tempat_wisata.unique()\n",
        "all_Wisata"
      ]
    },
    {
      "cell_type": "code",
      "execution_count": 14,
      "metadata": {
        "colab": {
          "base_uri": "https://localhost:8080/",
          "height": 241
        },
        "id": "pJSa2KpLdXcu",
        "outputId": "801bf025-d1db-40e3-e868-255991a3bfcb"
      },
      "outputs": [
        {
          "data": {
            "text/plain": [
              "0            Gunung Argopuro\n",
              "1              Gunung Papuma\n",
              "2    Kebun Teh Gunung Gambir\n",
              "3          Air Terjun Tancak\n",
              "4     Wisata Pinus Sidomulyo\n",
              "Name: tempat_wisata, dtype: object"
            ]
          },
          "execution_count": 14,
          "metadata": {},
          "output_type": "execute_result"
        }
      ],
      "source": [
        "dikunjungi = df[df.user_id == 1].tempat_wisata\n",
        "dikunjungi.head()"
      ]
    },
    {
      "cell_type": "code",
      "execution_count": 15,
      "metadata": {
        "colab": {
          "base_uri": "https://localhost:8080/"
        },
        "id": "g4_CcGMCdtWq",
        "outputId": "e0227d6b-3906-4c45-ee41-2a1fcfed94a6"
      },
      "outputs": [
        {
          "data": {
            "text/plain": [
              "['Gunung Argopuro',\n",
              " 'Gunung Papuma',\n",
              " 'Kebun Teh Gunung Gambir',\n",
              " 'Air Terjun Tancak',\n",
              " 'Wisata Pinus Sidomulyo',\n",
              " 'Teluk Love',\n",
              " 'Trans Studio Mini',\n",
              " 'Gas Adventure Land',\n",
              " 'Kidzoona Lipoo Plaza',\n",
              " 'Jember Mini ZOO',\n",
              " 'Gudeg Lumintu',\n",
              " 'Cafe Kolong',\n",
              " 'Restoran Pawon Sari',\n",
              " 'Alun-alun Jember Foodcourt',\n",
              " 'Pura Mandara Giri Semeru Agung',\n",
              " 'Makam Habib Sholeh Tanggul',\n",
              " 'Lippo Plaza',\n",
              " 'Jember Roxy Square',\n",
              " 'Makam KH Muhammad Shidiq',\n",
              " \"Masjid Jami' Al-Baitul Amien\",\n",
              " 'Masjid Muhammad Cheng Hoo',\n",
              " 'Dira Kencong Shopping Center',\n",
              " 'Rumah Batik Rolla',\n",
              " 'Transmart Jember',\n",
              " 'Jember Town Square']"
            ]
          },
          "execution_count": 15,
          "metadata": {},
          "output_type": "execute_result"
        }
      ],
      "source": [
        "belum_dikunjungi = [Wisata for Wisata in all_Wisata if Wisata not in dikunjungi]\n",
        "belum_dikunjungi"
      ]
    },
    {
      "cell_type": "code",
      "execution_count": 27,
      "metadata": {
        "colab": {
          "base_uri": "https://localhost:8080/"
        },
        "id": "KaJ_NZDleEFE",
        "outputId": "f3963250-5ad7-447b-c74d-f652ecc77428"
      },
      "outputs": [
        {
          "data": {
            "text/plain": [
              "[4.706517698210222,\n",
              " 4.854068391004531,\n",
              " 4.943790898481888,\n",
              " 4.807491686310418,\n",
              " 4.823265608881754,\n",
              " 4.88114660425367,\n",
              " 4.8967594059338495,\n",
              " 4.624574178315971,\n",
              " 4.747509607881179,\n",
              " 4.672455582954527,\n",
              " 4.511482026098088,\n",
              " 4.771865950211403,\n",
              " 4.347065425644406,\n",
              " 4.628145278976317,\n",
              " 4.949184699092162,\n",
              " 5,\n",
              " 4.9943558356119375,\n",
              " 4.887212234415993,\n",
              " 4.936951228476735,\n",
              " 5,\n",
              " 4.946311610126823,\n",
              " 4.7225090889431,\n",
              " 4.759864496223668,\n",
              " 4.932280203236688,\n",
              " 4.8492925209618285]"
            ]
          },
          "execution_count": 27,
          "metadata": {},
          "output_type": "execute_result"
        }
      ],
      "source": [
        "score = [model.predict(user_id, Wisata).est for Wisata in dikunjungi] # Changed userId to user_id\n",
        "score"
      ]
    },
    {
      "cell_type": "code",
      "execution_count": 16,
      "metadata": {
        "id": "YiNOBbYRi1aQ"
      },
      "outputs": [],
      "source": [
        "class RecommenderSystem:\n",
        "    def __init__(self, data):\n",
        "        # Membaca data dari CSV dengan delimiter \";\"\n",
        "        self.df = pd.read_csv(data, delimiter=';', header=0)\n",
        "        \n",
        "        # Pastikan kolom 'rating' diubah ke float dan format desimalnya sesuai\n",
        "        self.df['rating'] = self.df['rating'].str.replace(',', '.').astype(float)\n",
        "\n",
        "        # Ambil daftar unik dari tempat wisata\n",
        "        self.all_Wisata = self.df['tempat_wisata'].unique()\n",
        "        self.model = None\n",
        "\n",
        "    def fit(self):\n",
        "        # Menyiapkan data untuk Surprise\n",
        "        data = Dataset.load_from_df(self.df[['user_id', 'tempat_wisata', 'rating']], \n",
        "                                    Reader(rating_scale=(1, 5)))\n",
        "        trainset = data.build_full_trainset()\n",
        "\n",
        "        # Melatih model SVD\n",
        "        self.model = SVD()\n",
        "        self.model.fit(trainset)\n",
        "\n",
        "    def recommend(self, user_id, topk=10):\n",
        "        # Tempat wisata yang sudah dikunjungi oleh user\n",
        "        dikunjungi = self.df[self.df['user_id'] == user_id]['tempat_wisata'].tolist()\n",
        "\n",
        "        # Tempat wisata yang belum dikunjungi\n",
        "        belum_dikunjungi = [Wisata for Wisata in self.all_Wisata if Wisata not in dikunjungi]\n",
        "\n",
        "        # Memperkirakan skor untuk tempat wisata yang belum dikunjungi\n",
        "        score = [self.model.predict(user_id, Wisata).est for Wisata in belum_dikunjungi]\n",
        "\n",
        "        # Membuat DataFrame hasil rekomendasi\n",
        "        result = pd.DataFrame({\"tempat_wisata\": belum_dikunjungi, \"pred_score\": score})\n",
        "        result.sort_values(\"pred_score\", ascending=False, inplace=True)\n",
        "\n",
        "        return result.head(topk)"
      ]
    },
    {
      "cell_type": "code",
      "execution_count": 17,
      "metadata": {
        "id": "MDbsjgiekCzP"
      },
      "outputs": [],
      "source": [
        "# sistem rekomendasi dari dataset\n",
        "recsys = RecommenderSystem(\"Data Sistem Rekomendasi new.csv\")\n",
        "recsys.fit()"
      ]
    },
    {
      "cell_type": "code",
      "execution_count": 18,
      "metadata": {
        "colab": {
          "base_uri": "https://localhost:8080/"
        },
        "id": "0cWS_HuKmTct",
        "outputId": "3d8f4a96-e314-4d2d-fd67-a13a54e14b89"
      },
      "outputs": [
        {
          "name": "stdout",
          "output_type": "stream",
          "text": [
            "Empty DataFrame\n",
            "Columns: [tempat_wisata, pred_score]\n",
            "Index: []\n"
          ]
        }
      ],
      "source": [
        "recommendations = recsys.recommend(user_id=3)\n",
        "print(recommendations)"
      ]
    }
  ],
  "metadata": {
    "colab": {
      "provenance": []
    },
    "kernelspec": {
      "display_name": "Python 3.10.6 64-bit",
      "language": "python",
      "name": "python3"
    },
    "language_info": {
      "codemirror_mode": {
        "name": "ipython",
        "version": 3
      },
      "file_extension": ".py",
      "mimetype": "text/x-python",
      "name": "python",
      "nbconvert_exporter": "python",
      "pygments_lexer": "ipython3",
      "version": "3.10.6"
    },
    "vscode": {
      "interpreter": {
        "hash": "2469a70536e4d2335a2ea8907942d0699c37342a371ac185bdb5b0aa6f073890"
      }
    }
  },
  "nbformat": 4,
  "nbformat_minor": 0
}
